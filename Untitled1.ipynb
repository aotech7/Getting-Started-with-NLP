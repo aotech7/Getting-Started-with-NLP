{
  "nbformat": 4,
  "nbformat_minor": 0,
  "metadata": {
    "colab": {
      "provenance": [],
      "authorship_tag": "ABX9TyNjm1QRcmmFWpP7XTeLbWey",
      "include_colab_link": true
    },
    "kernelspec": {
      "name": "python3",
      "display_name": "Python 3"
    },
    "language_info": {
      "name": "python"
    }
  },
  "cells": [
    {
      "cell_type": "markdown",
      "metadata": {
        "id": "view-in-github",
        "colab_type": "text"
      },
      "source": [
        "<a href=\"https://colab.research.google.com/github/aotech7/Getting-Started-with-NLP/blob/master/Untitled1.ipynb\" target=\"_parent\"><img src=\"https://colab.research.google.com/assets/colab-badge.svg\" alt=\"Open In Colab\"/></a>"
      ]
    },
    {
      "cell_type": "markdown",
      "source": [],
      "metadata": {
        "id": "YywQeN9WRQjp"
      }
    },
    {
      "cell_type": "markdown",
      "source": [
        "SPILTTING TEXT STRING INTO WORDS BY WHITESPACES\n",
        "(Legal dictionary rerefence:  law.com)"
      ],
      "metadata": {
        "id": "HjATSta9Q5_2"
      }
    },
    {
      "cell_type": "code",
      "source": [
        "text = \"rebuttal evidence introduced to counter, disprove or contradict the opposition's evidence or a presumption, or responsive legal argument.\"\n",
        "text.split(\" \")"
      ],
      "metadata": {
        "colab": {
          "base_uri": "https://localhost:8080/"
        },
        "id": "8NnaTLSbRDPj",
        "outputId": "76449d62-b4ed-484c-a715-83e6448eaef6"
      },
      "execution_count": 2,
      "outputs": [
        {
          "output_type": "execute_result",
          "data": {
            "text/plain": [
              "['rebuttal',\n",
              " 'evidence',\n",
              " 'introduced',\n",
              " 'to',\n",
              " 'counter,',\n",
              " 'disprove',\n",
              " 'or',\n",
              " 'contradict',\n",
              " 'the',\n",
              " \"opposition's\",\n",
              " 'evidence',\n",
              " 'or',\n",
              " 'a',\n",
              " 'presumption,',\n",
              " 'or',\n",
              " 'responsive',\n",
              " 'legal',\n",
              " 'argument.']"
            ]
          },
          "metadata": {},
          "execution_count": 2
        }
      ]
    }
  ]
}